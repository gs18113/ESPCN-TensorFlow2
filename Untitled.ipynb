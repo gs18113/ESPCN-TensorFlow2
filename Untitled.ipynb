{
 "cells": [
  {
   "cell_type": "code",
   "execution_count": 1,
   "metadata": {},
   "outputs": [],
   "source": [
    "import tensorflow as tf\n",
    "import matplotlib.pyplot as plt\n",
    "%matplotlib inline"
   ]
  },
  {
   "cell_type": "code",
   "execution_count": 2,
   "metadata": {},
   "outputs": [
    {
     "name": "stdout",
     "output_type": "stream",
     "text": [
      "2.0.0\n"
     ]
    }
   ],
   "source": [
    "print(tf.__version__)"
   ]
  },
  {
   "cell_type": "code",
   "execution_count": 6,
   "metadata": {},
   "outputs": [],
   "source": [
    "files = tf.data.Dataset.list_files(\"./image_data/samples/*.jpg\")"
   ]
  },
  {
   "cell_type": "code",
   "execution_count": null,
   "metadata": {},
   "outputs": [],
   "source": [
    "print(files)"
   ]
  },
  {
   "cell_type": "code",
   "execution_count": 114,
   "metadata": {},
   "outputs": [],
   "source": [
    "def get_image_from_file(filename, crop_size=256):\n",
    "    image = tf.io.read_file(filename)\n",
    "    image = tf.image.decode_png(image)\n",
    "    image= tf.cast(image, tf.float32)\n",
    "    image_height = tf.shape(image)[0]\n",
    "    image_width = tf.shape(image)[1]\n",
    "    offset_height = (image_height-crop_size) // 2\n",
    "    offset_width = (image_width-crop_size) // 2\n",
    "    original_image = tf.image.crop_to_bounding_box(image, offset_height, offset_width, crop_size, crop_size)\n",
    "    downsampled_image = tf.image.resize(original_image, [crop_size // 2, crop_size // 2])\n",
    "    original_image = tf.transpose(original_image / 255.0, [2, 0, 1])\n",
    "    downsampled_image = tf.transpose(downsampled_image / 255.0, [2, 0, 1])\n",
    "    return downsampled_image, original_image"
   ]
  },
  {
   "cell_type": "code",
   "execution_count": 111,
   "metadata": {},
   "outputs": [
    {
     "name": "stdout",
     "output_type": "stream",
     "text": [
      "['__abstractmethods__', '__class__', '__delattr__', '__dict__', '__dir__', '__doc__', '__eq__', '__format__', '__ge__', '__getattribute__', '__gt__', '__hash__', '__init__', '__iter__', '__le__', '__lt__', '__module__', '__ne__', '__new__', '__next__', '__reduce__', '__reduce_ex__', '__repr__', '__setattr__', '__sizeof__', '__str__', '__subclasshook__', '__weakref__', '_abc_cache', '_abc_negative_cache', '_abc_negative_cache_version', '_abc_registry', '_add_variable_with_custom_getter', '_checkpoint_dependencies', '_component_metadata', '_consumers', '_create_iterator', '_deferred_dependencies', '_deleter', '_device', '_element_spec', '_flat_output_shapes', '_flat_output_types', '_from_components', '_gather_saveables_for_checkpoint', '_handle_deferred_dependencies', '_is_graph_tensor', '_iterator_resource', '_list_extra_dependencies_for_serialization', '_list_functions_for_serialization', '_lookup_dependency', '_maybe_initialize_trackable', '_name_based_attribute_restore', '_name_based_restores', '_next_internal', '_no_dependency', '_object_identifier', '_preload_simple_restoration', '_resource_deleter', '_restore_from_checkpoint_position', '_setattr_tracking', '_shape_invariant_to_type_spec', '_single_restoration_from_checkpoint_position', '_to_components', '_track_trackable', '_tracking_metadata', '_type_spec', '_unconditional_checkpoint_dependencies', '_unconditional_dependency_names', '_update_uid', 'element_spec', 'get_next', 'next', 'output_classes', 'output_shapes', 'output_types']\n"
     ]
    }
   ],
   "source": [
    "it = iter(files)\n",
    "print(dir(it))"
   ]
  },
  {
   "cell_type": "code",
   "execution_count": 115,
   "metadata": {},
   "outputs": [
    {
     "name": "stdout",
     "output_type": "stream",
     "text": [
      "tf.Tensor(b'./image_data/Screenshot from 2019-05-24 11-37-03.png', shape=(), dtype=string)\n"
     ]
    }
   ],
   "source": [
    "file_path = it.next()\n",
    "print(file_path)\n",
    "ds_image, image = get_image_from_file(file_path)"
   ]
  },
  {
   "cell_type": "code",
   "execution_count": 113,
   "metadata": {},
   "outputs": [
    {
     "name": "stdout",
     "output_type": "stream",
     "text": [
      "(3, 128, 128)\n"
     ]
    },
    {
     "data": {
      "image/png": "[encoded data removed]",
      "text/plain": [
       "<Figure size 432x288 with 2 Axes>"
      ]
     },
     "metadata": {
      "needs_background": "light"
     },
     "output_type": "display_data"
    }
   ],
   "source": [
    "plt.imshow(ds_image[0], cmap='gray')\n",
    "plt.colorbar()\n",
    "print(ds_image.shape)"
   ]
  },
  {
   "cell_type": "code",
   "execution_count": null,
   "metadata": {},
   "outputs": [],
   "source": []
  }
 ],
 "metadata": {
  "kernelspec": {
   "display_name": "venv",
   "language": "python",
   "name": "venv"
  },
  "language_info": {
   "codemirror_mode": {
    "name": "ipython",
    "version": 3
   },
   "file_extension": ".py",
   "mimetype": "text/x-python",
   "name": "python",
   "nbconvert_exporter": "python",
   "pygments_lexer": "ipython3",
   "version": "3.5.2"
  }
 },
 "nbformat": 4,
 "nbformat_minor": 2
}
